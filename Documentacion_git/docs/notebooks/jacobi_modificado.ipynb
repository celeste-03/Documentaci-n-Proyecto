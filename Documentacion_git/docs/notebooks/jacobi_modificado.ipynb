{
 "cells": [
  {
   "cell_type": "markdown",
   "metadata": {},
   "source": [
    "# Ecuaciones Diferenciales Parciales (PDEs)"
   ]
  },
  {
   "cell_type": "markdown",
   "metadata": {},
   "source": [
    "### Método de relajación de Jacobi modificado (*over-relaxation*)\n",
    "\n",
    "Existe una forma de mejorar el método de Jacobi para converger con menos iteraciones. Este método es el método de Jacobi modificado, en el cual en lugar de tomar pasos pequeños entre cada iteración, incrementamos con un parámetro $\\omega$ el tamaño del incremento que realizamos. Con esta modificación, el método de Jacobi modificado toma la forma \n",
    "$$\n",
    "\\phi'(x, y) = (1+\\omega)\\left[\\frac{\\phi(x+a, y) + \\phi(x-a, y) + \\phi(x, y+a) + \\phi(x, y-a)}4\\right] - \\omega \\phi (x,y).\n",
    "$$\n",
    "* Cuando funciona, usualmente reduce el número de iteraciones necesarias para obtener la aproximación\n",
    "* **No siempre es estable**, depende de como se escoja el parámetro $\\omega$\n",
    "* En general, se debe considerar un parámetro $\\omega$ que depende del problema para acelerar el cálculo"
   ]
  },
  {
   "cell_type": "markdown",
   "metadata": {},
   "source": [
    "Realicemos el cálculo con un valor  $N = 100$, toleracia de $10^{-3}$, $L = 100$, $V1 = 1$, $V2 = -1$, $omega = 0.5$"
   ]
  },
  {
   "cell_type": "code",
   "execution_count": 9,
   "metadata": {},
   "outputs": [],
   "source": [
    "import numpy as np  \n",
    "import matplotlib.pyplot as plt  \n",
    "\n",
    "def jacobi_relaxation_mod(N, tolerance, L, V1, V2, omega):\n",
    "    # Inicializar la matriz phi (potencial eléctrico) con ceros\n",
    "    phi = np.zeros((N + 1, N + 1), dtype=float)\n",
    "\n",
    "    # Aplicar las condiciones de frontera\n",
    "    phi[int((N / L) * 2):int((N / L) * 8), int((N / L) * 2)] = V1\n",
    "    phi[int((N / L) * 2):int((N / L) * 8), int((N / L) * 8)] = V2\n",
    "\n",
    "    # Inicializar variables para el bucle iterativo\n",
    "    delta = 1.0  # Diferencia máxima inicial (valor alto para entrar al bucle)\n",
    "    iteration = 0  # Contador de iteraciones\n",
    "\n",
    "    # Iniciar el bucle principal para la relajación de Jacobi\n",
    "    while delta > tolerance:\n",
    "        phi_new = phi.copy()  # Crear una copia de la matriz actual para calcular la nueva iteración\n",
    "        iteration += 1  # Incrementar el contador de iteraciones\n",
    "\n",
    "        # Aplicar el método de relajación de Jacobi modificado (over-relaxation)\n",
    "        phi_new[1:N, 1:N] = (1.0 + omega) * 0.25 * (\n",
    "            phi[2:N + 1, 1:N] + phi[0:N - 1, 1:N] + \n",
    "            phi[1:N, 2:N + 1] + phi[1:N, 0:N - 1]\n",
    "        ) - omega * phi[1:N, 1:N]\n",
    "\n",
    "        # Reaplicar las condiciones de frontera para mantener los valores fijos\n",
    "        phi_new[int((N / L) * 2):int((N / L) * 8), int((N / L) * 2)] = V1\n",
    "        phi_new[int((N / L) * 2):int((N / L) * 8), int((N / L) * 8)] = V2\n",
    "\n",
    "        # Calcular el cambio máximo entre iteraciones\n",
    "        delta = np.max(np.abs(phi - phi_new))\n",
    "\n",
    "        # Actualizar la matriz phi con los nuevos valores\n",
    "        phi = phi_new\n",
    "\n",
    "    # Imprimir mensaje indicando éxito al converger\n",
    "    print(f\"El método convergió en {iteration} iteraciones.\")\n",
    "    \n",
    "    # Retornar la matriz final phi y el número de iteraciones realizadas\n",
    "    return phi, iteration\n"
   ]
  },
  {
   "cell_type": "code",
   "execution_count": 11,
   "metadata": {},
   "outputs": [
    {
     "name": "stdout",
     "output_type": "stream",
     "text": [
      "El método convergió en 523 iteraciones.\n"
     ]
    },
    {
     "name": "stderr",
     "output_type": "stream",
     "text": [
      "/tmp/ipykernel_5055/757925980.py:23: RuntimeWarning: overflow encountered in add\n",
      "  phi[2:N + 1, 1:N] + phi[0:N - 1, 1:N] +\n",
      "/tmp/ipykernel_5055/757925980.py:25: RuntimeWarning: overflow encountered in multiply\n",
      "  ) - omega * phi[1:N, 1:N]\n",
      "/tmp/ipykernel_5055/757925980.py:22: RuntimeWarning: overflow encountered in subtract\n",
      "  phi_new[1:N, 1:N] = (1.0 + omega) * 0.25 * (\n",
      "/tmp/ipykernel_5055/757925980.py:32: RuntimeWarning: overflow encountered in subtract\n",
      "  delta = np.max(np.abs(phi - phi_new))\n",
      "/tmp/ipykernel_5055/757925980.py:23: RuntimeWarning: invalid value encountered in add\n",
      "  phi[2:N + 1, 1:N] + phi[0:N - 1, 1:N] +\n"
     ]
    }
   ],
   "source": [
    "# Llamar al método con los parámetros\n",
    "phi, num_iterations = jacobi_relaxation_mod(100, 1e-3, 10, 1, -1, 1.5)"
   ]
  },
  {
   "cell_type": "code",
   "execution_count": 12,
   "metadata": {},
   "outputs": [],
   "source": [
    "# Graficar el resultado después de la convergencia, en este caso diverge este método.\n",
    "#plt.figure(figsize=(8, 6))\n",
    "#plt.imshow(phi, extent=[0, 10, 0, 10], origin='lower', cmap='viridis', interpolation='bilinear')\n",
    "#plt.colorbar(label='Potencial eléctrico (phi)')\n",
    "#plt.title(f'Distribución del Potencial Eléctrico - Iteraciones: {num_iterations}')\n",
    "#plt.xlabel('x')\n",
    "#plt.ylabel('y')\n",
    "#plt.show()"
   ]
  },
  {
   "cell_type": "code",
   "execution_count": null,
   "metadata": {},
   "outputs": [],
   "source": []
  }
 ],
 "metadata": {
  "anaconda-cloud": {},
  "kernelspec": {
   "display_name": "Python 3 (ipykernel)",
   "language": "python",
   "name": "python3"
  },
  "language_info": {
   "codemirror_mode": {
    "name": "ipython",
    "version": 3
   },
   "file_extension": ".py",
   "mimetype": "text/x-python",
   "name": "python",
   "nbconvert_exporter": "python",
   "pygments_lexer": "ipython3",
   "version": "3.12.3"
  }
 },
 "nbformat": 4,
 "nbformat_minor": 4
}
